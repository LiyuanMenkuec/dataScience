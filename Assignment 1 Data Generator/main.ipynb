{
 "cells": [
  {
   "cell_type": "markdown",
   "metadata": {},
   "source": [
    "## 1. Data generator\n"
   ]
  },
  {
   "cell_type": "code",
   "execution_count": 68,
   "metadata": {},
   "outputs": [],
   "source": [
    "# Importing the libraries\n",
    "import numpy as np\n",
    "import matplotlib.pyplot as plt\n",
    "import pandas as pd\n",
    "import math\n",
    "\n"
   ]
  },
  {
   "cell_type": "code",
   "execution_count": 69,
   "metadata": {},
   "outputs": [],
   "source": [
    "def generate_clustered_data(n_samples, d, k, radius, relevant_dims_per_cluster,n_outliers):\n",
    "    \"\"\"\n",
    "    Generate clustered data.\n",
    "\n",
    "    Parameters:\n",
    "    - n_samples: Total number of data points.\n",
    "    - d: Dimensionality of the data.\n",
    "    - k: Number of clusters.\n",
    "    - radius: Radius within which points are uniformly distributed around the cluster center in relevant dimensions.\n",
    "    - relevant_dims_per_cluster: List of integers indicating the number of relevant dimensions for each cluster.\n",
    "    - n_outliers: Total number of outliers.\n",
    "\n",
    "    Returns:\n",
    "    - data: Generated data points as an array of shape (n_samples, d).\n",
    "    - labels: Cluster labels for each data point, outliers have label -1\n",
    "    \"\"\"\n",
    "    # Ensure the input is valid\n",
    "    assert len(relevant_dims_per_cluster) == k, \"relevant_dims_per_cluster must have length equal to k\"\n",
    "\n",
    "    # Initialize data array and labels\n",
    "    data = np.zeros((n_outliers,d))\n",
    "    labels = np.zeros(n_samples+n_outliers, dtype=int)\n",
    "\n",
    "     #Generate outliers\n",
    "    for j in range(n_outliers):\n",
    "\n",
    "        point = np.random.uniform(0, 100, d)\n",
    "        data[j]=point\n",
    "        labels[j]=-1   \n",
    "\n",
    "    # Total number of samples per cluster\n",
    "    samples_per_cluster = n_samples //  k\n",
    "\n",
    "    # Generate clusters\n",
    "    for i in range(k):\n",
    "\n",
    "        if i!=k-1:\n",
    "            data =np.vstack((data, generate_cluster(samples_per_cluster, d, radius, relevant_dims_per_cluster[i])) )\n",
    "            labels[n_outliers+ i * samples_per_cluster: n_outliers+ (i+1) * samples_per_cluster] = i\n",
    "        else:\n",
    "        # Handle case where n_samples is not perfectly divisible by k\n",
    "            remaining_samples = n_samples - samples_per_cluster * k\n",
    "            data = np.vstack((data, generate_cluster(samples_per_cluster+remaining_samples, d, radius, relevant_dims_per_cluster[i]))) \n",
    "            labels[n_outliers+ i * samples_per_cluster: n_outliers+ samples_per_cluster+remaining_samples] = i   \n",
    "\n",
    "    \n",
    "    \n",
    "\n",
    "    return data, labels\n",
    "\n",
    "\n",
    "\n",
    "#Generate a cluster\n",
    "def generate_cluster(samples, d, radius, relevant_dims):\n",
    "    \n",
    "    # Generate the cluster center within the full-dimensional space\n",
    "    center = np.random.uniform(0, 100, d)\n",
    "\n",
    "    # Determine relevant dimensions for this cluster\n",
    "    relevant_dims = np.random.choice(d,relevant_dims, replace=True)\n",
    "\n",
    "    data = np.zeros((samples, d))\n",
    "\n",
    "    for j in range(samples):\n",
    "\n",
    "        point = np.random.uniform(0, 100, d)\n",
    "            \n",
    "        # In relevant dimensions, distribute points within the specified radius\n",
    "        for dim in relevant_dims:\n",
    "            point[dim] = np.random.uniform(max(0, center[dim] - radius), min(100, center[dim] + radius))\n",
    "            \n",
    "        data[j]=point    \n",
    "\n",
    "    return data\n",
    "\n"
   ]
  },
  {
   "cell_type": "markdown",
   "metadata": {},
   "source": [
    "#save generated data to excel"
   ]
  },
  {
   "cell_type": "code",
   "execution_count": 70,
   "metadata": {},
   "outputs": [],
   "source": [
    "def save_data(data, labels):\n",
    "    \n",
    "    data_file=\"dataset_of_points1.csv\"\n",
    "    labels_file=\"labels_of_points1.csv\"\n",
    "    df_data = pd.DataFrame(data)\n",
    "    df_label = pd.DataFrame(labels)\n",
    "    \n",
    "    with open(data_file, 'a') as file:\n",
    "        # Write data\n",
    "        df_data.to_csv(file,index=False)\n",
    "    \n",
    "    with open(labels_file, 'a') as file:\n",
    "        # Write labels\n",
    "        df_data.to_csv(file,index=False)\n",
    "\n",
    "\n"
   ]
  },
  {
   "cell_type": "code",
   "execution_count": 71,
   "metadata": {},
   "outputs": [],
   "source": [
    "# with the data generator create five datasets with increasing dimensionality d, vary d between 1 and 100.\n",
    "\n",
    "\n",
    "data4, labels4 = generate_clustered_data(n_samples = 500, d = 4, k = 5, radius = 5, relevant_dims_per_cluster = [2, 3, 1, 5, 5] ,n_outliers=10)\n",
    "data8, labels8 = generate_clustered_data(n_samples = 500, d = 8, k = 5, radius = 5, relevant_dims_per_cluster = [2, 3, 1, 5, 5] ,n_outliers=10)\n",
    "data16, labels16 = generate_clustered_data(n_samples = 500, d = 16, k = 5, radius = 5, relevant_dims_per_cluster = [2, 3, 1, 5, 5] ,n_outliers=10)\n",
    "data32, labels32 = generate_clustered_data(n_samples = 500, d = 32, k = 5, radius = 5, relevant_dims_per_cluster = [2, 3, 1, 5, 5] ,n_outliers=10)\n",
    "data64, labels64 = generate_clustered_data(n_samples = 500, d = 64, k = 5, radius = 5, relevant_dims_per_cluster = [2, 3, 1, 5, 5] ,n_outliers=10)"
   ]
  },
  {
   "cell_type": "markdown",
   "metadata": {},
   "source": [
    "#shuffle the ordered data (not necessary)"
   ]
  },
  {
   "cell_type": "code",
   "execution_count": 40,
   "metadata": {},
   "outputs": [
    {
     "name": "stdout",
     "output_type": "stream",
     "text": [
      "Shuffled Array 1: [[93.76348971 42.10640045  6.46045847 35.57681043 97.50469045]\n",
      " [13.86706417 66.02475878 99.24292755  6.22973604  4.29997164]\n",
      " [76.36408838 50.0091254  95.76528146 18.41297677  0.69973361]\n",
      " [44.32818181 67.68147146 96.02972268  0.93382031 54.47536132]\n",
      " [98.25686889 99.13120031 74.26584442 37.85866038 89.43012468]]\n",
      "Shuffled Array 2: [1 0 0 0 1]\n"
     ]
    }
   ],
   "source": [
    "# Ensure both arrays have the same length\n",
    "assert len(data) == len(labels)\n",
    "\n",
    "# Generate a set of indices and shuffle them\n",
    "indices = np.arange(len(labels))\n",
    "np.random.shuffle(indices)\n",
    "\n",
    "# Use the shuffled indices to reorder the arrays\n",
    "shuffled_data = data[indices]\n",
    "shuffled_labels = labels[indices]\n",
    "\n",
    "save_data(shuffled_data,shuffled_labels = labels[indices]\n",
    ")\n"
   ]
  },
  {
   "cell_type": "markdown",
   "metadata": {},
   "source": [
    "## 2. Analysis of high dimensional data\n",
    "Step 1: Compute the Pairwise Euclidean Distances: For each object in the dataset, calculate the Euclidean distance to every other object.\n",
    "\n",
    "Step 2: Determine Nearest and Farthest Neighbors: For each object, identify the nearest neighbor (the object with the smallest distance) and the farthest neighbor (the object with the largest distance).\n",
    "\n",
    "Step 3: Calculate the Ratio for Each Object: For each object, compute the ratio of the distance to the farthest neighbor to the distance to the nearest neighbor.\n",
    "\n",
    "Step 4: Calculate the Average Ratio: Compute the average of these ratios for all objects in the dataset.\n",
    "\n",
    "Step 5: Draw a graph, the abscissa is the number of dimensions, the ordinate is the nearest and farthest distance and their ratio"
   ]
  },
  {
   "cell_type": "code",
   "execution_count": 72,
   "metadata": {},
   "outputs": [],
   "source": [
    "import matplotlib.pyplot as plt\n",
    "import numpy as np\n",
    "\n",
    "#Step 1: Compute the Pairwise Distances\n",
    "def euclidean_distance_matrix(data):\n",
    "    n = data.shape[0]\n",
    "    dist_matrix = np.zeros((n, n))\n",
    "    \n",
    "    for i in range(n):\n",
    "        for j in range(n):\n",
    "            #dist_matrix[i, j] = np.linalg.norm(data[i] - data[j])   #Euclidean Distances\n",
    "            dist_matrix[i, j]=sum(abs(a - b) for a, b in zip(data[i] , data[j])) #Manhattan distance\n",
    "    \n",
    "    return dist_matrix\n",
    "\n",
    "#Step 2: Determine Nearest and Farthest Neighbors\n",
    "def nearest_and_farthest_neighbors(dist_matrix):\n",
    "    n = dist_matrix.shape[0]\n",
    "    nearest_neighbors = np.zeros(n)\n",
    "    farthest_neighbors = np.zeros(n)\n",
    "    \n",
    "    for i in range(n):\n",
    "        distances = dist_matrix[i]\n",
    "        nearest_neighbors[i] = np.min(distances[distances > 0])  # Nearest neighbor (excluding self)\n",
    "        farthest_neighbors[i] = np.max(distances)  # Farthest neighbor\n",
    "    \n",
    "    return nearest_neighbors, farthest_neighbors\n",
    "\n",
    "#Step 3: Calculate the Ratio for Each Object\n",
    "def calculate_ratio(nearest_neighbors, farthest_neighbors):\n",
    "    ratios = farthest_neighbors / nearest_neighbors\n",
    "    return ratios\n",
    "\n",
    "#Step 4: Calculate the Average Ratio\n",
    "def calculate_ave_ratio(ratios):\n",
    "    average_ratio = np.mean(ratios)\n",
    "    return average_ratio\n",
    "\n",
    "#step 1-4\n",
    "def compute_distances_and_average_ratio(data):\n",
    "    dist_matrix = euclidean_distance_matrix(data)\n",
    "    nearest_neighbors, farthest_neighbors = nearest_and_farthest_neighbors(dist_matrix)\n",
    "    ratios = calculate_ratio(nearest_neighbors, farthest_neighbors)\n",
    "    average_ratio = calculate_ave_ratio(ratios)\n",
    "    nearest_neighbor=np.mean(nearest_neighbors)\n",
    "    farthest_neighbor=np.mean(farthest_neighbors)\n",
    "    return nearest_neighbor,farthest_neighbor, average_ratio\n",
    "\n",
    "#Step 5:\n",
    "def make_figure_of_average_ratio(x,average_ratios):\n",
    "    \n",
    "    plt.plot(x, average_ratios)\n",
    "    \n",
    "    plt.xlabel(\"number of dimensions\")\n",
    "    plt.ylabel(\"average_ratio\")\n",
    "    plt.show()\n",
    "\n",
    "def make_figure_of_distances(x, nearest_neighbors, farthest_neighbors):\n",
    "\n",
    "    plt.plot(x, nearest_neighbors,label='nearest_neighbors')\n",
    "\n",
    "    plt.plot(x, farthest_neighbors, '-.', label='farthest_neighbors')\n",
    "    \n",
    "    plt.legend()\n",
    "    plt.xlabel(\"number of dimensions\")\n",
    "    plt.ylabel(\"distance\")\n",
    "    plt.show()\n"
   ]
  },
  {
   "cell_type": "code",
   "execution_count": 73,
   "metadata": {},
   "outputs": [],
   "source": [
    "data4 \n",
    "data8\n",
    "data16\n",
    "data32\n",
    "data64\n",
    "\n",
    "x=[4,8,16,32,64]\n",
    "average_ratios=[0,0,0,0,0]\n",
    "nearest_neighbors=[0,0,0,0,0]\n",
    "farthest_neighbors=[0,0,0,0,0]\n",
    "\n",
    "nearest_neighbors[0],farthest_neighbors[0], average_ratios[0]=compute_distances_and_average_ratio(data4)\n",
    "nearest_neighbors[1],farthest_neighbors[1], average_ratios[1]=compute_distances_and_average_ratio(data8)\n",
    "nearest_neighbors[2],farthest_neighbors[2], average_ratios[2]=compute_distances_and_average_ratio(data16)\n",
    "nearest_neighbors[3],farthest_neighbors[3], average_ratios[3]=compute_distances_and_average_ratio(data32)\n",
    "nearest_neighbors[4],farthest_neighbors[4], average_ratios[4]=compute_distances_and_average_ratio(data64)\n"
   ]
  },
  {
   "cell_type": "code",
   "execution_count": 74,
   "metadata": {},
   "outputs": [
    {
     "data": {
      "image/png": "[encoded data removed]",
      "text/plain": [
       "<Figure size 432x288 with 1 Axes>"
      ]
     },
     "metadata": {
      "needs_background": "light"
     },
     "output_type": "display_data"
    },
    {
     "data": {
      "image/png": "[encoded data removed]",
      "text/plain": [
       "<Figure size 432x288 with 1 Axes>"
      ]
     },
     "metadata": {
      "needs_background": "light"
     },
     "output_type": "display_data"
    }
   ],
   "source": [
    "make_figure_of_average_ratio(x,average_ratios)\n",
    "make_figure_of_distances(x, nearest_neighbors, farthest_neighbors)"
   ]
  }
 ],
 "metadata": {
  "kernelspec": {
   "display_name": "tf1.5",
   "language": "python",
   "name": "python3"
  },
  "language_info": {
   "codemirror_mode": {
    "name": "ipython",
    "version": 3
   },
   "file_extension": ".py",
   "mimetype": "text/x-python",
   "name": "python",
   "nbconvert_exporter": "python",
   "pygments_lexer": "ipython3",
   "version": "3.6.13"
  }
 },
 "nbformat": 4,
 "nbformat_minor": 2
}
